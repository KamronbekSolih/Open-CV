{
  "nbformat": 4,
  "nbformat_minor": 0,
  "metadata": {
    "colab": {
      "provenance": [],
      "authorship_tag": "ABX9TyP5BlK+8DM9ulgQ13IKAABY",
      "include_colab_link": true
    },
    "kernelspec": {
      "name": "python3",
      "display_name": "Python 3"
    },
    "language_info": {
      "name": "python"
    }
  },
  "cells": [
    {
      "cell_type": "markdown",
      "metadata": {
        "id": "view-in-github",
        "colab_type": "text"
      },
      "source": [
        "<a href=\"https://colab.research.google.com/github/KamronbekSolih/Open-CV/blob/main/img_classification_CNN_TF.ipynb\" target=\"_parent\"><img src=\"https://colab.research.google.com/assets/colab-badge.svg\" alt=\"Open In Colab\"/></a>"
      ]
    },
    {
      "cell_type": "markdown",
      "source": [
        "CNN using TensorFlow"
      ],
      "metadata": {
        "id": "__3kPlus58OI"
      }
    },
    {
      "cell_type": "code",
      "source": [
        "import tensorflow as tf\n",
        "from tensorflow.keras import datasets, layers, models\n",
        "import matplotlib.pyplot as plt\n",
        "import numpy as np"
      ],
      "metadata": {
        "id": "F3L_1Pj459Nv"
      },
      "execution_count": 2,
      "outputs": []
    },
    {
      "cell_type": "code",
      "source": [
        "(X_train, y_train), (X_test, y_test) = datasets.cifar10.load_data()\n",
        "X_train.shape"
      ],
      "metadata": {
        "colab": {
          "base_uri": "https://localhost:8080/"
        },
        "id": "U4N2euFr6qYD",
        "outputId": "7de2e959-a8ff-4cc9-91f9-0381e602663e"
      },
      "execution_count": 3,
      "outputs": [
        {
          "output_type": "stream",
          "name": "stdout",
          "text": [
            "Downloading data from https://www.cs.toronto.edu/~kriz/cifar-10-python.tar.gz\n",
            "170498071/170498071 [==============================] - 6s 0us/step\n"
          ]
        },
        {
          "output_type": "execute_result",
          "data": {
            "text/plain": [
              "(50000, 32, 32, 3)"
            ]
          },
          "metadata": {},
          "execution_count": 3
        }
      ]
    },
    {
      "cell_type": "code",
      "source": [
        "X_train[0].shape"
      ],
      "metadata": {
        "colab": {
          "base_uri": "https://localhost:8080/"
        },
        "id": "VGKfR0vf8aR_",
        "outputId": "babf6106-a78b-41c8-b6bb-897654f95427"
      },
      "execution_count": 4,
      "outputs": [
        {
          "output_type": "execute_result",
          "data": {
            "text/plain": [
              "(32, 32, 3)"
            ]
          },
          "metadata": {},
          "execution_count": 4
        }
      ]
    },
    {
      "cell_type": "code",
      "source": [
        "# prompt: how many elements in X_train[0]\n",
        "\n",
        "X_train[0].size\n"
      ],
      "metadata": {
        "colab": {
          "base_uri": "https://localhost:8080/"
        },
        "id": "D9NKpcva920i",
        "outputId": "dcf2e6b9-afa7-40f1-d83f-77fc65c1fb85"
      },
      "execution_count": 5,
      "outputs": [
        {
          "output_type": "execute_result",
          "data": {
            "text/plain": [
              "3072"
            ]
          },
          "metadata": {},
          "execution_count": 5
        }
      ]
    },
    {
      "cell_type": "code",
      "source": [
        "32*32*3"
      ],
      "metadata": {
        "colab": {
          "base_uri": "https://localhost:8080/"
        },
        "id": "6qzWXpzM-EJ3",
        "outputId": "ec6f77da-8ba2-4db9-9bf7-918a7d0ea1bb"
      },
      "execution_count": 6,
      "outputs": [
        {
          "output_type": "execute_result",
          "data": {
            "text/plain": [
              "3072"
            ]
          },
          "metadata": {},
          "execution_count": 6
        }
      ]
    },
    {
      "cell_type": "code",
      "source": [
        "X_train[0][0]"
      ],
      "metadata": {
        "colab": {
          "base_uri": "https://localhost:8080/"
        },
        "id": "F8TCKxJY-YyP",
        "outputId": "70d467cc-e862-4ffe-f1d5-8b2b0213b780"
      },
      "execution_count": 7,
      "outputs": [
        {
          "output_type": "execute_result",
          "data": {
            "text/plain": [
              "array([[ 59,  62,  63],\n",
              "       [ 43,  46,  45],\n",
              "       [ 50,  48,  43],\n",
              "       [ 68,  54,  42],\n",
              "       [ 98,  73,  52],\n",
              "       [119,  91,  63],\n",
              "       [139, 107,  75],\n",
              "       [145, 110,  80],\n",
              "       [149, 117,  89],\n",
              "       [149, 120,  93],\n",
              "       [131, 103,  77],\n",
              "       [125,  99,  76],\n",
              "       [142, 115,  91],\n",
              "       [144, 112,  86],\n",
              "       [137, 105,  79],\n",
              "       [129,  97,  71],\n",
              "       [137, 106,  79],\n",
              "       [134, 106,  76],\n",
              "       [124,  97,  64],\n",
              "       [139, 113,  78],\n",
              "       [139, 112,  75],\n",
              "       [133, 105,  69],\n",
              "       [136, 105,  74],\n",
              "       [139, 108,  77],\n",
              "       [152, 120,  89],\n",
              "       [163, 131, 100],\n",
              "       [168, 136, 108],\n",
              "       [159, 129, 102],\n",
              "       [158, 130, 104],\n",
              "       [158, 132, 108],\n",
              "       [152, 125, 102],\n",
              "       [148, 124, 103]], dtype=uint8)"
            ]
          },
          "metadata": {},
          "execution_count": 7
        }
      ]
    },
    {
      "cell_type": "code",
      "source": [
        "plt.imshow(X_train[12])"
      ],
      "metadata": {
        "colab": {
          "base_uri": "https://localhost:8080/",
          "height": 447
        },
        "id": "lW5tLxfR-6kE",
        "outputId": "51f06477-7488-4e5d-ff7d-2dec10e5f865"
      },
      "execution_count": 8,
      "outputs": [
        {
          "output_type": "execute_result",
          "data": {
            "text/plain": [
              "<matplotlib.image.AxesImage at 0x7cb2d8ec4fd0>"
            ]
          },
          "metadata": {},
          "execution_count": 8
        },
        {
          "output_type": "display_data",
          "data": {
            "text/plain": [
              "<Figure size 640x480 with 1 Axes>"
            ],
            "image/png": "[encoded data removed]"
          },
          "metadata": {}
        }
      ]
    },
    {
      "cell_type": "code",
      "source": [
        "y_train = y_train.reshape(-1,)\n",
        "y_train[:5]"
      ],
      "metadata": {
        "colab": {
          "base_uri": "https://localhost:8080/"
        },
        "id": "7CeEgoD0IbJy",
        "outputId": "412118a2-c785-4549-9f86-de1de6fe33ca"
      },
      "execution_count": 9,
      "outputs": [
        {
          "output_type": "execute_result",
          "data": {
            "text/plain": [
              "array([6, 9, 9, 4, 1], dtype=uint8)"
            ]
          },
          "metadata": {},
          "execution_count": 9
        }
      ]
    },
    {
      "cell_type": "code",
      "source": [
        "classes = ['airplane','car','bird','cat','deer','dog','frog', 'horse', 'ship', 'truck']"
      ],
      "metadata": {
        "id": "K_XvnGZOH44L"
      },
      "execution_count": 10,
      "outputs": []
    },
    {
      "cell_type": "code",
      "source": [
        "def plot_sample(X, y, index):\n",
        "  plt.figure(figsize = (15,2))\n",
        "  plt.imshow(X[index])\n",
        "  plt.xlabel(classes[y[index]])\n"
      ],
      "metadata": {
        "id": "ryPR5_VE_Tvx"
      },
      "execution_count": 11,
      "outputs": []
    },
    {
      "cell_type": "code",
      "source": [
        "plot_sample(X_train, y_train,7)"
      ],
      "metadata": {
        "colab": {
          "base_uri": "https://localhost:8080/",
          "height": 237
        },
        "id": "fNRfywNOCYhq",
        "outputId": "c5473ce7-d565-47c8-9e27-23915dcf7791"
      },
      "execution_count": 12,
      "outputs": [
        {
          "output_type": "display_data",
          "data": {
            "text/plain": [
              "<Figure size 1500x200 with 1 Axes>"
            ],
            "image/png": "[encoded data removed]"
          },
          "metadata": {}
        }
      ]
    },
    {
      "cell_type": "code",
      "source": [
        "X_train = X_train/255\n",
        "X_test = X_test/255"
      ],
      "metadata": {
        "id": "8o0FXrdnJDRg"
      },
      "execution_count": 13,
      "outputs": []
    },
    {
      "cell_type": "code",
      "source": [
        "X_train[7]"
      ],
      "metadata": {
        "colab": {
          "base_uri": "https://localhost:8080/"
        },
        "id": "cYJDe6QUJ2n_",
        "outputId": "51cfaa43-54be-4e74-9690-e3c55a49359e"
      },
      "execution_count": 14,
      "outputs": [
        {
          "output_type": "execute_result",
          "data": {
            "text/plain": [
              "array([[[0.10980392, 0.1372549 , 0.15294118],\n",
              "        [0.11764706, 0.13333333, 0.17254902],\n",
              "        [0.12941176, 0.17254902, 0.18431373],\n",
              "        ...,\n",
              "        [0.16862745, 0.21960784, 0.17647059],\n",
              "        [0.20392157, 0.25098039, 0.20784314],\n",
              "        [0.18039216, 0.22745098, 0.18431373]],\n",
              "\n",
              "       [[0.10588235, 0.11764706, 0.14901961],\n",
              "        [0.10588235, 0.10980392, 0.16078431],\n",
              "        [0.08235294, 0.12156863, 0.15294118],\n",
              "        ...,\n",
              "        [0.43921569, 0.53333333, 0.38039216],\n",
              "        [0.45882353, 0.54901961, 0.39607843],\n",
              "        [0.45098039, 0.54117647, 0.39215686]],\n",
              "\n",
              "       [[0.13333333, 0.14117647, 0.16470588],\n",
              "        [0.12941176, 0.12941176, 0.16862745],\n",
              "        [0.09411765, 0.11764706, 0.15686275],\n",
              "        ...,\n",
              "        [0.68627451, 0.81568627, 0.56078431],\n",
              "        [0.69411765, 0.81960784, 0.56470588],\n",
              "        [0.69019608, 0.81568627, 0.56078431]],\n",
              "\n",
              "       ...,\n",
              "\n",
              "       [[0.55686275, 0.69019608, 0.4627451 ],\n",
              "        [0.55686275, 0.69019608, 0.4627451 ],\n",
              "        [0.58823529, 0.72156863, 0.49803922],\n",
              "        ...,\n",
              "        [0.5254902 , 0.68627451, 0.46666667],\n",
              "        [0.50196078, 0.65882353, 0.43921569],\n",
              "        [0.5254902 , 0.68627451, 0.46666667]],\n",
              "\n",
              "       [[0.54901961, 0.69019608, 0.48627451],\n",
              "        [0.56862745, 0.70588235, 0.50588235],\n",
              "        [0.58823529, 0.72941176, 0.5254902 ],\n",
              "        ...,\n",
              "        [0.51372549, 0.66666667, 0.46666667],\n",
              "        [0.50980392, 0.66666667, 0.46666667],\n",
              "        [0.47843137, 0.63529412, 0.43529412]],\n",
              "\n",
              "       [[0.5254902 , 0.67058824, 0.48235294],\n",
              "        [0.53333333, 0.67058824, 0.48627451],\n",
              "        [0.53333333, 0.67058824, 0.48627451],\n",
              "        ...,\n",
              "        [0.41568627, 0.56470588, 0.39215686],\n",
              "        [0.40784314, 0.55686275, 0.38823529],\n",
              "        [0.39607843, 0.54901961, 0.37647059]]])"
            ]
          },
          "metadata": {},
          "execution_count": 14
        }
      ]
    },
    {
      "cell_type": "code",
      "source": [
        "plot_sample(X_train, y_train,7)"
      ],
      "metadata": {
        "colab": {
          "base_uri": "https://localhost:8080/",
          "height": 237
        },
        "id": "brq0t9ftJyFQ",
        "outputId": "ac80b6f8-64bc-446a-fc29-2f065c26d5ce"
      },
      "execution_count": 15,
      "outputs": [
        {
          "output_type": "display_data",
          "data": {
            "text/plain": [
              "<Figure size 1500x200 with 1 Axes>"
            ],
            "image/png": "[encoded data removed]"
          },
          "metadata": {}
        }
      ]
    },
    {
      "cell_type": "markdown",
      "source": [
        "ANN"
      ],
      "metadata": {
        "id": "VzyUlrkekUix"
      }
    },
    {
      "cell_type": "code",
      "source": [
        "# prompt: the code below says models is not defined. handle this\n",
        "\n",
        "from tensorflow.keras import datasets, layers, models\n"
      ],
      "metadata": {
        "id": "vJl-OFBLlii1"
      },
      "execution_count": 16,
      "outputs": []
    },
    {
      "cell_type": "code",
      "source": [
        "ann = models.Sequential([\n",
        "    layers.Flatten(input_shape=(32,32,3)),\n",
        "    layers.Dense(3000,activation='relu'),\n",
        "    layers.Dense(1000,activation='relu'),\n",
        "    layers.Dense(10,activation='sigmoid'),\n",
        "\n",
        "])\n",
        "\n",
        "ann.compile(optimizer='SGD',\n",
        "            loss = 'sparse_categorical_crossentropy',\n",
        "            metrics=['accuracy'])\n",
        "ann.fit(X_train,y_train,epochs=5)"
      ],
      "metadata": {
        "colab": {
          "base_uri": "https://localhost:8080/"
        },
        "id": "atAxcq6YJz89",
        "outputId": "c217769f-de3a-47e6-f50b-ec5789271933"
      },
      "execution_count": 20,
      "outputs": [
        {
          "output_type": "stream",
          "name": "stdout",
          "text": [
            "Epoch 1/5\n",
            "1563/1563 [==============================] - 146s 93ms/step - loss: 1.8132 - accuracy: 0.3555\n",
            "Epoch 2/5\n",
            "1563/1563 [==============================] - 154s 99ms/step - loss: 1.6256 - accuracy: 0.4260\n",
            "Epoch 3/5\n",
            "1563/1563 [==============================] - 150s 96ms/step - loss: 1.5423 - accuracy: 0.4563\n",
            "Epoch 4/5\n",
            "1563/1563 [==============================] - 152s 97ms/step - loss: 1.4813 - accuracy: 0.4780\n",
            "Epoch 5/5\n",
            "1563/1563 [==============================] - 150s 96ms/step - loss: 1.4351 - accuracy: 0.4946\n"
          ]
        },
        {
          "output_type": "execute_result",
          "data": {
            "text/plain": [
              "<keras.src.callbacks.History at 0x7cb275bfb7c0>"
            ]
          },
          "metadata": {},
          "execution_count": 20
        }
      ]
    },
    {
      "cell_type": "code",
      "source": [
        "print(\"Classification Report: \\n\", classification_report(y_test,y_pred))"
      ],
      "metadata": {
        "id": "42uReNUzd4jS"
      },
      "execution_count": null,
      "outputs": []
    },
    {
      "cell_type": "markdown",
      "source": [
        "CNN"
      ],
      "metadata": {
        "id": "QngpQ6fu_dQ5"
      }
    },
    {
      "cell_type": "code",
      "source": [
        "cnn = models.Sequential([\n",
        "\n",
        "    #cnn\n",
        "    layers.Conv2D(filters=32, kernel_size = (3,3), activation = 'relu', input_shape=(32,32,3)),\n",
        "    layers.MaxPooling2D((2,2)),\n",
        "\n",
        "    layers.Conv2D(filters=32, kernel_size = (3,3), activation = 'relu', input_shape=(32,32,3)),\n",
        "    layers.MaxPooling2D((2,2)),\n",
        "\n",
        "    #dense\n",
        "    layers.Flatten(),\n",
        "    layers.Dense(64,activation='relu'),\n",
        "    layers.Dense(10,activation='softmax'),\n",
        "\n",
        "])"
      ],
      "metadata": {
        "id": "Bvy4psHolc4k"
      },
      "execution_count": 24,
      "outputs": []
    },
    {
      "cell_type": "code",
      "source": [
        "cnn.compile(optimizer='adam',\n",
        "            loss = 'sparse_categorical_crossentropy',\n",
        "            metrics=['accuracy'])\n",
        "ann.fit(X_train,y_train,epochs=10)"
      ],
      "metadata": {
        "colab": {
          "base_uri": "https://localhost:8080/"
        },
        "id": "utp408_sBXvH",
        "outputId": "59896ed3-370a-47ec-e8b1-23a2cf39e973"
      },
      "execution_count": 25,
      "outputs": [
        {
          "output_type": "stream",
          "name": "stdout",
          "text": [
            "Epoch 1/10\n",
            "1563/1563 [==============================] - 149s 96ms/step - loss: 1.0847 - accuracy: 0.6267\n",
            "Epoch 2/10\n",
            "1563/1563 [==============================] - 150s 96ms/step - loss: 1.0645 - accuracy: 0.6293\n",
            "Epoch 3/10\n",
            "1563/1563 [==============================] - 148s 94ms/step - loss: 1.0348 - accuracy: 0.6418\n",
            "Epoch 4/10\n",
            "1563/1563 [==============================] - 152s 97ms/step - loss: 1.0088 - accuracy: 0.6486\n",
            "Epoch 5/10\n",
            "1563/1563 [==============================] - 159s 102ms/step - loss: 0.9821 - accuracy: 0.6595\n",
            "Epoch 6/10\n",
            "1563/1563 [==============================] - 149s 95ms/step - loss: 0.9584 - accuracy: 0.6673\n",
            "Epoch 7/10\n",
            "1563/1563 [==============================] - 149s 95ms/step - loss: 0.9334 - accuracy: 0.6780\n",
            "Epoch 8/10\n",
            "1563/1563 [==============================] - 150s 96ms/step - loss: 0.9094 - accuracy: 0.6850\n",
            "Epoch 9/10\n",
            "1563/1563 [==============================] - 154s 98ms/step - loss: 0.8840 - accuracy: 0.6943\n",
            "Epoch 10/10\n",
            "1563/1563 [==============================] - 151s 96ms/step - loss: 0.8574 - accuracy: 0.7047\n"
          ]
        },
        {
          "output_type": "execute_result",
          "data": {
            "text/plain": [
              "<keras.src.callbacks.History at 0x7cb26dfe6350>"
            ]
          },
          "metadata": {},
          "execution_count": 25
        }
      ]
    },
    {
      "cell_type": "code",
      "source": [
        "cnn.evaluate(X_test,y_test)"
      ],
      "metadata": {
        "colab": {
          "base_uri": "https://localhost:8080/"
        },
        "id": "Ss742egnBkli",
        "outputId": "adcab98c-6a4d-445d-ab0d-bf9a4b36402a"
      },
      "execution_count": 27,
      "outputs": [
        {
          "output_type": "stream",
          "name": "stdout",
          "text": [
            "313/313 [==============================] - 3s 10ms/step - loss: 2.3180 - accuracy: 0.0977\n"
          ]
        },
        {
          "output_type": "execute_result",
          "data": {
            "text/plain": [
              "[2.3179872035980225, 0.09769999980926514]"
            ]
          },
          "metadata": {},
          "execution_count": 27
        }
      ]
    },
    {
      "cell_type": "code",
      "source": [
        "y_test = y_test.reshape(-1,)\n"
      ],
      "metadata": {
        "id": "60NzHaOaaJhT"
      },
      "execution_count": 28,
      "outputs": []
    },
    {
      "cell_type": "code",
      "source": [
        "plot_sample(X_test, y_test, 1)"
      ],
      "metadata": {
        "id": "JhT6yiPkammA",
        "outputId": "5446f57b-8948-417d-eb38-71fdc9892e13",
        "colab": {
          "base_uri": "https://localhost:8080/",
          "height": 237
        }
      },
      "execution_count": 29,
      "outputs": [
        {
          "output_type": "display_data",
          "data": {
            "text/plain": [
              "<Figure size 1500x200 with 1 Axes>"
            ],
            "image/png": "[encoded data removed]"
          },
          "metadata": {}
        }
      ]
    },
    {
      "cell_type": "code",
      "source": [
        "y_pred = cnn.predict(X_test)\n",
        "y_pred[:5]"
      ],
      "metadata": {
        "id": "sabnYjBfatfA",
        "outputId": "7e38a5de-45c4-4848-f96f-f8bb2ab23505",
        "colab": {
          "base_uri": "https://localhost:8080/"
        }
      },
      "execution_count": 31,
      "outputs": [
        {
          "output_type": "stream",
          "name": "stdout",
          "text": [
            "313/313 [==============================] - 3s 9ms/step\n"
          ]
        },
        {
          "output_type": "execute_result",
          "data": {
            "text/plain": [
              "array([[0.08813895, 0.09106754, 0.09074359, 0.10872583, 0.11848404,\n",
              "        0.11517227, 0.0963449 , 0.09904326, 0.08922964, 0.10304997],\n",
              "       [0.08157732, 0.09175526, 0.10729113, 0.09898689, 0.11440187,\n",
              "        0.13562146, 0.1030884 , 0.10333008, 0.08097594, 0.08297168],\n",
              "       [0.08644063, 0.08943155, 0.09565697, 0.10111492, 0.10747185,\n",
              "        0.12302633, 0.10482203, 0.11251789, 0.08627173, 0.09324609],\n",
              "       [0.084433  , 0.0986452 , 0.09915157, 0.10528342, 0.11376806,\n",
              "        0.12282982, 0.09849536, 0.09981043, 0.08678901, 0.09079415],\n",
              "       [0.08711498, 0.09395062, 0.1000373 , 0.1036718 , 0.11018938,\n",
              "        0.11311753, 0.09742983, 0.10284437, 0.09136788, 0.10027621]],\n",
              "      dtype=float32)"
            ]
          },
          "metadata": {},
          "execution_count": 31
        }
      ]
    },
    {
      "cell_type": "code",
      "source": [
        "y_classes = [np.argmax(element) for element in y_pred]\n",
        "y_classes[5:10]"
      ],
      "metadata": {
        "id": "xVFWrBRma_LI",
        "outputId": "2ef2e320-e866-495e-bc5d-b7b8441a6a1b",
        "colab": {
          "base_uri": "https://localhost:8080/"
        }
      },
      "execution_count": 40,
      "outputs": [
        {
          "output_type": "execute_result",
          "data": {
            "text/plain": [
              "[5, 5, 4, 5, 5]"
            ]
          },
          "metadata": {},
          "execution_count": 40
        }
      ]
    },
    {
      "cell_type": "code",
      "source": [
        "for i in y_classes[34:40]:\n",
        "  plot_sample(X_test, y_test, i)\n",
        "  print(classes[i])"
      ],
      "metadata": {
        "id": "i4HnhcY2bQGw",
        "outputId": "8e81951f-db7d-4b24-fa86-66f952d13df1",
        "colab": {
          "base_uri": "https://localhost:8080/",
          "height": 1000
        }
      },
      "execution_count": 42,
      "outputs": [
        {
          "output_type": "stream",
          "name": "stdout",
          "text": [
            "dog\n",
            "deer\n",
            "dog\n",
            "deer\n",
            "dog\n",
            "dog\n"
          ]
        },
        {
          "output_type": "display_data",
          "data": {
            "text/plain": [
              "<Figure size 1500x200 with 1 Axes>"
            ],
            "image/png": "[encoded data removed]"
          },
          "metadata": {}
        },
        {
          "output_type": "display_data",
          "data": {
            "text/plain": [
              "<Figure size 1500x200 with 1 Axes>"
            ],
            "image/png": "[encoded data removed]"
          },
          "metadata": {}
        },
        {
          "output_type": "display_data",
          "data": {
            "text/plain": [
              "<Figure size 1500x200 with 1 Axes>"
            ],
            "image/png": "[encoded data removed]"
          },
          "metadata": {}
        },
        {
          "output_type": "display_data",
          "data": {
            "text/plain": [
              "<Figure size 1500x200 with 1 Axes>"
            ],
            "image/png": "[encoded data removed]"
          },
          "metadata": {}
        },
        {
          "output_type": "display_data",
          "data": {
            "text/plain": [
              "<Figure size 1500x200 with 1 Axes>"
            ],
            "image/png": "[encoded data removed]"
          },
          "metadata": {}
        },
        {
          "output_type": "display_data",
          "data": {
            "text/plain": [
              "<Figure size 1500x200 with 1 Axes>"
            ],
            "image/png": "[encoded data removed]"
          },
          "metadata": {}
        }
      ]
    },
    {
      "cell_type": "code",
      "source": [
        "classes[y_classes[4]]"
      ],
      "metadata": {
        "id": "s14n1LFAcFZg",
        "outputId": "8c894904-b882-4771-b582-94a1462115df",
        "colab": {
          "base_uri": "https://localhost:8080/",
          "height": 35
        }
      },
      "execution_count": 49,
      "outputs": [
        {
          "output_type": "execute_result",
          "data": {
            "text/plain": [
              "'dog'"
            ],
            "application/vnd.google.colaboratory.intrinsic+json": {
              "type": "string"
            }
          },
          "metadata": {},
          "execution_count": 49
        }
      ]
    },
    {
      "cell_type": "code",
      "source": [
        "plot_sample(X_test, y_test, 4)"
      ],
      "metadata": {
        "id": "vkpCYTA_c2ul",
        "outputId": "3e0b0b2d-0780-433f-eee8-d642fa57b68a",
        "colab": {
          "base_uri": "https://localhost:8080/",
          "height": 237
        }
      },
      "execution_count": 50,
      "outputs": [
        {
          "output_type": "display_data",
          "data": {
            "text/plain": [
              "<Figure size 1500x200 with 1 Axes>"
            ],
            "image/png": "[encoded data removed]"
          },
          "metadata": {}
        }
      ]
    },
    {
      "cell_type": "code",
      "source": [
        "# prompt: import classification report\n",
        "\n",
        "from sklearn.metrics import classification_report\n"
      ],
      "metadata": {
        "id": "YiuS5viYdlyR"
      },
      "execution_count": 53,
      "outputs": []
    },
    {
      "cell_type": "code",
      "source": [
        "print(\"Classification Report: \\n\", classification_report(y_test,y_classes))"
      ],
      "metadata": {
        "id": "svkiwJ7Tc7bE",
        "outputId": "6328babf-e64b-49f6-e3c7-6d8488d3305f",
        "colab": {
          "base_uri": "https://localhost:8080/"
        }
      },
      "execution_count": 54,
      "outputs": [
        {
          "output_type": "stream",
          "name": "stdout",
          "text": [
            "Classification Report: \n",
            "               precision    recall  f1-score   support\n",
            "\n",
            "           0       0.00      0.00      0.00      1000\n",
            "           1       0.00      0.00      0.00      1000\n",
            "           2       0.00      0.00      0.00      1000\n",
            "           3       0.19      0.03      0.05      1000\n",
            "           4       0.13      0.31      0.19      1000\n",
            "           5       0.08      0.63      0.15      1000\n",
            "           6       0.00      0.00      0.00      1000\n",
            "           7       0.11      0.02      0.03      1000\n",
            "           8       0.00      0.00      0.00      1000\n",
            "           9       0.09      0.00      0.00      1000\n",
            "\n",
            "    accuracy                           0.10     10000\n",
            "   macro avg       0.06      0.10      0.04     10000\n",
            "weighted avg       0.06      0.10      0.04     10000\n",
            "\n"
          ]
        },
        {
          "output_type": "stream",
          "name": "stderr",
          "text": [
            "/usr/local/lib/python3.10/dist-packages/sklearn/metrics/_classification.py:1344: UndefinedMetricWarning: Precision and F-score are ill-defined and being set to 0.0 in labels with no predicted samples. Use `zero_division` parameter to control this behavior.\n",
            "  _warn_prf(average, modifier, msg_start, len(result))\n",
            "/usr/local/lib/python3.10/dist-packages/sklearn/metrics/_classification.py:1344: UndefinedMetricWarning: Precision and F-score are ill-defined and being set to 0.0 in labels with no predicted samples. Use `zero_division` parameter to control this behavior.\n",
            "  _warn_prf(average, modifier, msg_start, len(result))\n",
            "/usr/local/lib/python3.10/dist-packages/sklearn/metrics/_classification.py:1344: UndefinedMetricWarning: Precision and F-score are ill-defined and being set to 0.0 in labels with no predicted samples. Use `zero_division` parameter to control this behavior.\n",
            "  _warn_prf(average, modifier, msg_start, len(result))\n"
          ]
        }
      ]
    },
    {
      "cell_type": "code",
      "source": [],
      "metadata": {
        "id": "Eh8-Ax7Odemc"
      },
      "execution_count": null,
      "outputs": []
    }
  ]
}